{
 "cells": [
  {
   "cell_type": "markdown",
   "metadata": {
    "colab_type": "text",
    "id": "aX9oCHrXqhIj"
   },
   "source": [
    "# 1. Math Drills\n",
    "\n",
    "Give an example of a binary relation on a set which is\n",
    "\n",
    "1. Reflexive and symmetric, but not transitive  \n",
    "2. Reflexive, but neither symmetric nor transitive  \n",
    "3. Symmetric, but neither reflexive nor transitive  \n",
    "4. Transitive, but neither reflexive nor symmetric  \n",
    "\n",
    "Recall the definitions from the lectures if you need to!"
   ]
  },
  {
   "cell_type": "code",
   "execution_count": 1,
   "metadata": {},
   "outputs": [],
   "source": [
    "# 1. Reflexive and symmetric, but not transitive\n",
    "A = {(1,2)}\n",
    "B = {(1,1),(1,2),(2,1),(2,2)}\n",
    "\n",
    "# 2. Reflexive, but neither symmetric nor transitive \n",
    "A = {(1,2)}\n",
    "B = {(1,1),(1,2),(2,2)}\n",
    "\n",
    "# 3. Symmetric, but neither reflexive nor transitive\n",
    "A = {(1,2,3,4)}\n",
    "B = {(1,1),(1,2),(2,3),(2,1),(3,2)}\n",
    "\n",
    "# 4. Transitive, but neither reflexive nor symmetric\n",
    "A = {(1,2,3,4)}\n",
    "B = {(1,3),(3,2),(1,2)}"
   ]
  },
  {
   "cell_type": "markdown",
   "metadata": {},
   "source": [
    "# Exercise 2: A bunch of Math!\n",
    "\n",
    "## Polynomial\n",
    "\n",
    "Consider the polynomial\n",
    "\n",
    "$$\n",
    "p(x)\n",
    "= a_0 + a_1 x + a_2 x^2 + \\cdots a_n x^n\n",
    "= \\sum_{i=0}^n a_i x^i \\tag{1}\n",
    "$$\n",
    "\n",
    "Write a function `p` such that `p(x, coeff)` that computes the value in given a point `x` and a list of coefficients `coeff`.\n",
    "\n",
    "```\n",
    "p(5, [1, 1]) = 1 + 5 = 6\n",
    "p(5, [2, 1, 1]) = 2 + 5 + 25 = 32\n",
    "```"
   ]
  },
  {
   "cell_type": "code",
   "execution_count": 2,
   "metadata": {},
   "outputs": [
    {
     "name": "stdout",
     "output_type": "stream",
     "text": [
      "6\n",
      "32\n"
     ]
    }
   ],
   "source": [
    "# Function p such that p(x, coeff) that computes the value \n",
    "# in given a point x and a list of coefficients coeff\n",
    "\n",
    "def p(x,coeff):\n",
    "    value=[]\n",
    "    for i in range(0,len(coeff)):\n",
    "        value.append((coeff[i]*(x**i)))\n",
    "    return sum(value)\n",
    "\n",
    "# Test Scenarios & print result \n",
    "\n",
    "print(p(5, [1, 1]))\n",
    "print(p(5, [2, 1, 1]))"
   ]
  },
  {
   "cell_type": "markdown",
   "metadata": {},
   "source": [
    "# Variance\n",
    "\n",
    "Define a function named `var` that takes a list of numbers and computes the variance. The variance is:\n",
    "\n",
    "$$variance(x) = \\frac{∑_i^N(x_i − average(x))^2}{N-1}$$\n",
    "\n",
    "Don't cheat and use `numpy.var`! You should only use that function to test that your function is correct"
   ]
  },
  {
   "cell_type": "code",
   "execution_count": 3,
   "metadata": {},
   "outputs": [
    {
     "name": "stdout",
     "output_type": "stream",
     "text": [
      "2.9166666666666665\n",
      "2.9166666666666665\n"
     ]
    }
   ],
   "source": [
    "# Function named var that takes a list of numbers and computes the variance\n",
    "\n",
    "import numpy as np\n",
    "\n",
    "def variance(x):    \n",
    "    diff_sq = 0\n",
    "    for i in x:\n",
    "        diff_sq += (i-(sum(x)/len(x)))**2\n",
    "    return diff_sq/len(x)\n",
    "\n",
    "# Test Scenario & print result \n",
    "\n",
    "my_list=[3,4,5,2,6,7]\n",
    "\n",
    "print(variance(my_list))\n",
    "\n",
    "# Verify\n",
    "print(np.var(my_list))"
   ]
  },
  {
   "cell_type": "markdown",
   "metadata": {},
   "source": [
    "# RMSE\n",
    "\n",
    "Calculate the root mean squared error (RMSE) of a machine learning model's output. The function takes in two lists: one with actual values, one with predictions. The formula for RMSE is:\n",
    "\n",
    "$$RMSE(y_1, y_2) = \\sqrt{\\dfrac{1}{N} \\sum_{i=1}^N (y_{1i} - y_{2i})^2}$$\n",
    "\n",
    "```\n",
    "    rmse([1, 2], [1, 2]) = 0\n",
    "    rmse([1, 2, 3], [3, 2, 1]) = 1.63\n",
    "```\n",
    "\n",
    "You can use \n",
    "\n",
    "```\n",
    "sklearn.metrics.mean_squared_error(y_actual, y_predicted, squared=False)\n",
    "```\n",
    "\n",
    "To test your function"
   ]
  },
  {
   "cell_type": "code",
   "execution_count": 4,
   "metadata": {},
   "outputs": [
    {
     "name": "stdout",
     "output_type": "stream",
     "text": [
      "1.632993161855452\n"
     ]
    },
    {
     "data": {
      "text/plain": [
       "1.632993161855452"
      ]
     },
     "execution_count": 4,
     "metadata": {},
     "output_type": "execute_result"
    }
   ],
   "source": [
    "# Function takes in two lists: one with actual values, one with predictions\n",
    "\n",
    "import sklearn.metrics\n",
    "\n",
    "def RMSE(y_actual,y_predicted):\n",
    "    mean_squared = 0\n",
    "    for i in range(len(y_actual)):\n",
    "        mean_squared += (y_actual[i]-y_predicted[i])**2\n",
    "    return (mean_squared/len(y_actual))**0.5\n",
    "\n",
    "# Test Scenario & print result \n",
    "\n",
    "y_actual=[1, 2, 3]\n",
    "y_predicted=[3, 2, 1]\n",
    "\n",
    "print(RMSE(y_actual,y_predicted))\n",
    "\n",
    "# Verify\n",
    "\n",
    "sklearn.metrics.mean_squared_error(y_actual, y_predicted, squared=False)"
   ]
  },
  {
   "cell_type": "markdown",
   "metadata": {},
   "source": [
    "# Jaccard Similarity\n",
    "\n",
    "The Jaccard similarity between two sets is the size of intersection divided by the size of union. Write a function that computes it:\n",
    "\n",
    "$$jaccard(A, B) = \\dfrac{|A \\cap B|}{|A \\cup B|}$$\n",
    "\n",
    "\n",
    "```\n",
    "jaccard({'a', 'b', 'c'}, {'a', 'd'}) = 1 / 4\n",
    "```\n",
    "\n"
   ]
  },
  {
   "cell_type": "code",
   "execution_count": 5,
   "metadata": {},
   "outputs": [
    {
     "data": {
      "text/plain": [
       "0.25"
      ]
     },
     "execution_count": 5,
     "metadata": {},
     "output_type": "execute_result"
    }
   ],
   "source": [
    "# Function that computes the Jaccard similarity between two sets\n",
    "\n",
    "def jaccard(set1,set2):\n",
    "    return len(set1.intersection(set2))/len(set1.union(set2))\n",
    "\n",
    "# Test Scenario & print result \n",
    "\n",
    "set1={'a', 'b', 'c'}\n",
    "set2={'a', 'd'}\n",
    "\n",
    "jaccard(set1,set2)"
   ]
  },
  {
   "cell_type": "markdown",
   "metadata": {},
   "source": [
    "# Exercise 3\n",
    "\n",
    "First, write a function that returns one realization of the following random device\n",
    "\n",
    "1. Flip an unbiased coin 10 times.  \n",
    "1. If a head occurs `k` or more times consecutively within this sequence at least once, pay one dollar.  \n",
    "1. If not, pay nothing.  \n",
    "\n",
    "\n",
    "Second, write another function that does the same task except that the second rule of the above random device becomes\n",
    "\n",
    "- If a head occurs `k` or more times within this sequence, pay one dollar.  \n",
    "\n",
    "\n",
    "Use no import besides `from numpy.random import uniform`."
   ]
  },
  {
   "cell_type": "code",
   "execution_count": 6,
   "metadata": {},
   "outputs": [
    {
     "name": "stdout",
     "output_type": "stream",
     "text": [
      "['Tail', 'Tail', 'Tail', 'Tail', 'Head', 'Head', 'Tail', 'Head', 'Tail', 'Head']\n"
     ]
    },
    {
     "data": {
      "text/plain": [
       "'You won $0!'"
      ]
     },
     "execution_count": 6,
     "metadata": {},
     "output_type": "execute_result"
    }
   ],
   "source": [
    "# Function that returns one realization of the following random device\n",
    "\n",
    "# 1. Flip an unbiased coin 10 times.\n",
    "# 2. If a head occurs k or more times consecutively within this sequence at least once, pay one dollar.\n",
    "# 3. If not, pay nothing.\n",
    "\n",
    "\n",
    "def cointoss(k):    \n",
    "    totaldraws = []\n",
    "    for i in range(10):\n",
    "        outcome = np.random.uniform(0,1)\n",
    "        if outcome < 0.5:\n",
    "            totaldraws.append('Head')\n",
    "        if outcome > 0.5:\n",
    "            totaldraws.append('Tail')\n",
    "    print(totaldraws)\n",
    "    \n",
    "    counter=0\n",
    "    payout=0\n",
    "    for i in range(len(totaldraws)):\n",
    "        if totaldraws[i]=='Tail':\n",
    "            counter=0\n",
    "        if totaldraws[i]=='Head':\n",
    "            counter+=1\n",
    "            if counter==k:\n",
    "                payout=1\n",
    "                counter=0\n",
    "    return (f\"You won ${payout}!\")\n",
    "\n",
    "# Test Scenario & print result \n",
    "\n",
    "cointoss(3)"
   ]
  },
  {
   "cell_type": "code",
   "execution_count": 7,
   "metadata": {},
   "outputs": [
    {
     "name": "stdout",
     "output_type": "stream",
     "text": [
      "['Head', 'Tail', 'Tail', 'Tail', 'Tail', 'Tail', 'Tail', 'Head', 'Tail', 'Tail']\n"
     ]
    },
    {
     "data": {
      "text/plain": [
       "'You won $0!'"
      ]
     },
     "execution_count": 7,
     "metadata": {},
     "output_type": "execute_result"
    }
   ],
   "source": [
    "# Function that returns one realization of the following random device\n",
    "\n",
    "# 1. Flip an unbiased coin 10 times.\n",
    "# 2. If a head occurs k or more times within this sequence, pay one dollar.\n",
    "# 3. If not, pay nothing.\n",
    "\n",
    "def cointoss(k):    \n",
    "    totaldraws = []\n",
    "    for i in range(10):\n",
    "        outcome = np.random.uniform(0,1)\n",
    "        if outcome < 0.5:\n",
    "            totaldraws.append('Head')\n",
    "        if outcome > 0.5:\n",
    "            totaldraws.append('Tail')\n",
    "    print(totaldraws)\n",
    "\n",
    "    payout=0\n",
    "    if totaldraws.count('Head')>=k:\n",
    "        payout=1\n",
    "    return (f\"You won ${payout}!\")\n",
    "\n",
    "# Test Scenario & print result \n",
    "\n",
    "cointoss(3)"
   ]
  },
  {
   "cell_type": "markdown",
   "metadata": {},
   "source": [
    "# Exercise 4: Logistic Map fixed point\n",
    "\n",
    "The **Logistic Map** is a famous function from Chaos Theory which is defined as:\n",
    "\n",
    "$$x_{t+1} = r \\cdot x_t(1−x_t)$$\n",
    "\n",
    "with the conditions:\n",
    "\n",
    "$$x_0 ∈ [0,1], r ∈[0,4]$$\n",
    "\n",
    "Write a lambda $f = logistic(x, r)$, that's successively applied to itself $n$ times through a second function `logistic_n_times(x0, f, r, n)` with the inital point $X_0$\n",
    "\n",
    "Make a few runs of this for various values of `x0` and `r`. Answer the following:\n",
    "\n",
    "- Can you find a fixed point? \n",
    "\n",
    "- At what values of `r` are there fixed points? \n",
    "\n",
    "- Are there any ranges of input for which the function is an attractor?"
   ]
  },
  {
   "cell_type": "markdown",
   "metadata": {},
   "source": [
    "Note to Self:\n",
    "\n",
    "for x in [0,1], the highest peak of r*x*(1-x) is 0.5"
   ]
  },
  {
   "cell_type": "code",
   "execution_count": 8,
   "metadata": {},
   "outputs": [],
   "source": [
    "logistic = lambda x,r: r*x*(1-x)"
   ]
  },
  {
   "cell_type": "code",
   "execution_count": 9,
   "metadata": {},
   "outputs": [
    {
     "name": "stdout",
     "output_type": "stream",
     "text": [
      "[0.5        0.625      0.5859375  0.60653687 0.59662474 0.60165915\n",
      " 0.59916354 0.60041648 0.59979133 0.60010423 0.59994786 0.60002606\n",
      " 0.59998697 0.60000652 0.59999674 0.60000163 0.59999919 0.60000041\n",
      " 0.5999998  0.6000001  0.59999995 0.60000003 0.59999999 0.60000001\n",
      " 0.6        0.6        0.6        0.6        0.6        0.6\n",
      " 0.6        0.6        0.6        0.6        0.6        0.6\n",
      " 0.6        0.6        0.6        0.6        0.6        0.6\n",
      " 0.6        0.6        0.6        0.6        0.6        0.6\n",
      " 0.6        0.6       ]\n",
      "x = 0.6 and f(x) = 0.6000000000000001\n"
     ]
    }
   ],
   "source": [
    "import matplotlib.pyplot as plt\n",
    "%matplotlib inline\n",
    "\n",
    "def logistic_n_times(x0, f, r, n):\n",
    "    x = x0\n",
    "    farray = x0+np.zeros(n)\n",
    "    for i in range(1,n): #how many times i iterate\n",
    "        y = f(x,r)    \n",
    "        farray[i] = y\n",
    "        x=y\n",
    "    return farray\n",
    "\n",
    "print(logistic_n_times(0.5, logistic, 2.5, 50))\n",
    "# Can you find a fixed point?\n",
    "    # Yes. The function settles to a fixed point of 0.6 for x0 = 0.5 and r = 2.5\n",
    "    # f(x) = x , This is a fixed point\n",
    "print(f\"x = 0.6 and f(x) = {logistic(0.6,2.5)}\")\n",
    "    \n",
    "# At what values of r are there fixed points?\n",
    "    # There are fixed points for 0 <= r < 3\n",
    "\n",
    "# Are there any ranges of input for which the function is an attractor\n",
    "    # 1-(1/r)"
   ]
  },
  {
   "cell_type": "code",
   "execution_count": 10,
   "metadata": {},
   "outputs": [
    {
     "name": "stdout",
     "output_type": "stream",
     "text": [
      "[<matplotlib.lines.Line2D object at 0x000002125CE53FD0>]\n",
      "[<matplotlib.lines.Line2D object at 0x000002125CE60460>]\n",
      "[<matplotlib.lines.Line2D object at 0x000002125CE60880>]\n",
      "[<matplotlib.lines.Line2D object at 0x000002125CE60AF0>]\n",
      "[<matplotlib.lines.Line2D object at 0x000002125CE60E50>]\n",
      "[<matplotlib.lines.Line2D object at 0x000002125CE6D2B0>]\n",
      "[<matplotlib.lines.Line2D object at 0x000002125CE6D6D0>]\n"
     ]
    },
    {
     "data": {
      "image/png": "[encoded data removed]",
      "text/plain": [
       "<Figure size 432x288 with 1 Axes>"
      ]
     },
     "metadata": {
      "needs_background": "light"
     },
     "output_type": "display_data"
    }
   ],
   "source": [
    "#print(plt.plot(np.linspace(0,1),logistic_n_times(0.1, logistic,1, 50)))\n",
    "#print(plt.plot(np.linspace(0,1),logistic_n_times(0.1, logistic,1.5, 50)))\n",
    "#print(plt.plot(np.linspace(0,1),logistic_n_times(0.1, logistic,2, 50)))\n",
    "print(plt.plot(np.linspace(0,1),logistic_n_times(0.5, logistic, 0, 50)))\n",
    "print(plt.plot(np.linspace(0,1),logistic_n_times(0.5, logistic, 1, 50)))\n",
    "print(plt.plot(np.linspace(0,1),logistic_n_times(0.5, logistic, 1.5, 50)))\n",
    "print(plt.plot(np.linspace(0,1),logistic_n_times(0.5, logistic, 2, 50)))\n",
    "print(plt.plot(np.linspace(0,1),logistic_n_times(0.5, logistic, 2.5, 50)))\n",
    "print(plt.plot(np.linspace(0,1),logistic_n_times(0.5, logistic, 2.9, 50)))\n",
    "print(plt.plot(np.linspace(0,1),logistic_n_times(0.5, logistic, 3, 50)))"
   ]
  },
  {
   "cell_type": "markdown",
   "metadata": {},
   "source": [
    "# Exercise 5 (stretch): Famous Chaos Theory Plot \n",
    "\n",
    "There is a famous plot in chaos theory of the logistic map that relates values of the attractors in $x_t$ for values of $r$, detailing where the function tends to \"end up\" for each value of $r$.\n",
    "\n",
    "<img src=\"logistic map.png\" style=\"width: 400px;\">\n",
    "\n",
    "Reproduce this plot using the `matplotlib` package.\n",
    "\n",
    "**Hint:** Produce samples from the function to fill arrays on the x and y axis!\n",
    "\n",
    "**Hint:** Take the final 50 values in a series of data points produced by the function!"
   ]
  },
  {
   "cell_type": "code",
   "execution_count": 11,
   "metadata": {},
   "outputs": [
    {
     "data": {
      "text/plain": [
       "<function matplotlib.pyplot.show(*args, **kw)>"
      ]
     },
     "execution_count": 11,
     "metadata": {},
     "output_type": "execute_result"
    },
    {
     "data": {
      "image/png": "[encoded data removed]",
      "text/plain": [
       "<Figure size 432x288 with 1 Axes>"
      ]
     },
     "metadata": {
      "needs_background": "light"
     },
     "output_type": "display_data"
    }
   ],
   "source": [
    "#Ref: https://www.youtube.com/watch?v=1ApX-OHGOdw\n",
    "#Ref: http://astro.pas.rochester.edu/~aquillen/phy411/pylab/logistic.py\n",
    "#Ref: https://geoffboeing.com/2015/03/chaos-theory-logistic-map/\n",
    "#Ref: https://ipython-books.github.io/121-plotting-the-bifurcation-diagram-of-a-chaotic-dynamical-system/\n",
    "\n",
    "import matplotlib.pyplot as plt\n",
    "%matplotlib inline\n",
    "\n",
    "R=np.linspace(0,4,1000)\n",
    "\n",
    "N=200\n",
    "x=0.5+np.zeros(N)\n",
    "sampledata = np.arange(N-50,N)\n",
    "\n",
    "for i in range(len(R)):\n",
    "    \n",
    "    r=R[i]\n",
    "    \n",
    "    for n in range(N-1):\n",
    "        x[n+1] = r*x[n]*(1-x[n])\n",
    "    \n",
    "    u = np.unique(x[sampledata])\n",
    "    r = r*np.ones(len(u))\n",
    "    plt.plot(r,u,'.',markersize=1)\n",
    "    plt.axis([2.4,4.0,0,1])\n",
    "\n",
    "plt.show\n"
   ]
  },
  {
   "cell_type": "code",
   "execution_count": null,
   "metadata": {},
   "outputs": [],
   "source": []
  }
 ],
 "metadata": {
  "colab": {
   "authorship_tag": "ABX9TyO6ouX4mUPsrtNoh84NFVy3",
   "collapsed_sections": [],
   "name": "Workshop Functions.ipynb",
   "provenance": []
  },
  "kernelspec": {
   "display_name": "Python 3",
   "language": "python",
   "name": "python3"
  },
  "language_info": {
   "codemirror_mode": {
    "name": "ipython",
    "version": 3
   },
   "file_extension": ".py",
   "mimetype": "text/x-python",
   "name": "python",
   "nbconvert_exporter": "python",
   "pygments_lexer": "ipython3",
   "version": "3.8.3"
  }
 },
 "nbformat": 4,
 "nbformat_minor": 4
}
